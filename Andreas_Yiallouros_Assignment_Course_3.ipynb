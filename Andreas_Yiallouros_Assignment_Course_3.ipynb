{
 "cells": [
  {
   "cell_type": "markdown",
   "id": "6bccf929",
   "metadata": {},
   "source": [
    "### LSE Data Analytics Online Career Accelerator \n",
    "\n",
    "# DA301:  Advanced Analytics for Organisational Impact"
   ]
  },
  {
   "attachments": {},
   "cell_type": "markdown",
   "id": "137b5d07",
   "metadata": {},
   "source": [
    "# Purpose\n",
    "We will analyse data to provide insights that will help Turtle Games with its business objective to \"improve overall sales performance by utilising cutomer trends\".\n",
    "\n",
    "# Approach\n",
    "Turtle Games provided us with two data sets, and metadata for the two data sets combined in a text file.\n",
    "\n",
    "The data set file names are:\\\n",
    "`'turtle_reviews.csv'`\\\n",
    "`'turtle_sales.csv'`\n",
    "\n",
    "We will analyse the data over the following six weeks. Each week we will focus on one of the initial set of six questions that Turtle Games has come up with to break down their overall business objective of improving sales.\n",
    "\n",
    "The six questions as provided by Turtle Games are:\n",
    "1.\tHow do customers accumulate loyalty points?\n",
    "2.\tHow can groups within the customer base be used to target specific market segments?\n",
    "3.\tHow can social data (e.g., customer reviews) be used to inform marketing campaigns?\n",
    "4.\tWhat is the impact of each product on sales?\n",
    "5.\tHow reliable is the data? (e.g., normal distribution, skewness, or kurtosis)\n",
    "6.\tWhat is the relationship(s) between North American, European, and global sales?\n",
    "\n",
    "We will collaborate as a team of data analysts using a GitHub repository.\n",
    "\n",
    "In addition to our code, our repository includes the data and metadata files."
   ]
  },
  {
   "cell_type": "markdown",
   "id": "8c44dcf8",
   "metadata": {},
   "source": [
    "# Week 1"
   ]
  },
  {
   "cell_type": "markdown",
   "id": "5fb4a990",
   "metadata": {},
   "source": [
    "### Import the necessary libraries and packages\n",
    "Our choice of libraries and packages is based on the goals for the week."
   ]
  },
  {
   "cell_type": "code",
   "execution_count": 1,
   "id": "36239b78",
   "metadata": {},
   "outputs": [],
   "source": [
    "# Import libraries and packages necessary for linear regression\n",
    "import numpy as np\n",
    "import pandas as pd\n",
    "import matplotlib.pyplot as plt\n",
    "import seaborn as sns\n",
    "import statsmodels.api as sm\n",
    "import statsmodels.stats.api as sms\n",
    "from statsmodels.formula.api import ols"
   ]
  },
  {
   "cell_type": "markdown",
   "id": "1eae8c88",
   "metadata": {},
   "source": [
    "## Week 1 | Goals\n",
    "1. Data is understood and cleaned\n",
    "2. How customers accumulate loyalty points is understood\n",
    "\n",
    "Only the data in `'turtle_reviews.csv'` is relevant to the goals for week 1."
   ]
  },
  {
   "cell_type": "markdown",
   "id": "fcdc6582",
   "metadata": {},
   "source": [
    "### Week 1 | Goal 1\n",
    "Data is understood and cleaned"
   ]
  },
  {
   "cell_type": "markdown",
   "id": "adaaf492",
   "metadata": {},
   "source": [
    "#### Week 1 | Goal 1 | Step 1\n",
    "Load the data"
   ]
  },
  {
   "cell_type": "code",
   "execution_count": 2,
   "id": "db3ef400",
   "metadata": {},
   "outputs": [],
   "source": [
    "# Load 'turtle_reviews.csv' and create DataFrame.\n",
    "df_reviews = pd.read_csv('turtle_reviews.csv')"
   ]
  },
  {
   "cell_type": "markdown",
   "id": "b7c30098",
   "metadata": {},
   "source": [
    "#### Week 1 | Goal 1 | Step 2\n",
    "Explore the data\n",
    "1. Understand what the data represents\n",
    "2. Check for missing values"
   ]
  },
  {
   "cell_type": "markdown",
   "id": "3bcbc94f",
   "metadata": {},
   "source": [
    "###### Information in 'metadata_turtle_games.txt'\n",
    "\n",
    "\n",
    "| # | Column name | What the column represents |\n",
    "| - | :--------------------------- | :---------------------------------------------------------------------- |\n",
    "| 0 | `'gender'` | gender of the customer|\n",
    "| 1 | `'age'` | age of the customer in years |\n",
    "| 2 | `'remuneration (k£)'` | customer's total annual income in thousands of £|\n",
    "| 3 | `'spending_score (1-100)'` | score assigned by Turtle Games based on the customer's spending nature and behaviour |\n",
    "| 4 | `'loyalty_points'` | score assigned by Turtle Games based on monetary value of purchases |\n",
    "| 5 | `'education'` | highest level of education obtained by the customer |\n",
    "| 6 | `'language'` | all reviews were in English |\n",
    "| 7 | `'platform'` | all reviews were obtained through the Turtle Games website |\n",
    "| 8 | `'product'` | code for the product based on its description |\n",
    "| 9 | `'review'` | text from reviews by customers on the products they purchased and used |\n",
    "| 10 | `'summary'` | summary of customer's review |\n"
   ]
  },
  {
   "cell_type": "code",
   "execution_count": 3,
   "id": "55b4ea10",
   "metadata": {},
   "outputs": [
    {
     "data": {
      "text/html": [
       "<div>\n",
       "<style scoped>\n",
       "    .dataframe tbody tr th:only-of-type {\n",
       "        vertical-align: middle;\n",
       "    }\n",
       "\n",
       "    .dataframe tbody tr th {\n",
       "        vertical-align: top;\n",
       "    }\n",
       "\n",
       "    .dataframe thead th {\n",
       "        text-align: right;\n",
       "    }\n",
       "</style>\n",
       "<table border=\"1\" class=\"dataframe\">\n",
       "  <thead>\n",
       "    <tr style=\"text-align: right;\">\n",
       "      <th></th>\n",
       "      <th>gender</th>\n",
       "      <th>age</th>\n",
       "      <th>remuneration (k£)</th>\n",
       "      <th>spending_score (1-100)</th>\n",
       "      <th>loyalty_points</th>\n",
       "      <th>education</th>\n",
       "      <th>language</th>\n",
       "      <th>platform</th>\n",
       "      <th>product</th>\n",
       "      <th>review</th>\n",
       "      <th>summary</th>\n",
       "    </tr>\n",
       "  </thead>\n",
       "  <tbody>\n",
       "    <tr>\n",
       "      <th>0</th>\n",
       "      <td>Male</td>\n",
       "      <td>18</td>\n",
       "      <td>12.30</td>\n",
       "      <td>39</td>\n",
       "      <td>210</td>\n",
       "      <td>graduate</td>\n",
       "      <td>EN</td>\n",
       "      <td>Web</td>\n",
       "      <td>453</td>\n",
       "      <td>When it comes to a DM's screen, the space on t...</td>\n",
       "      <td>The fact that 50% of this space is wasted on a...</td>\n",
       "    </tr>\n",
       "    <tr>\n",
       "      <th>1</th>\n",
       "      <td>Male</td>\n",
       "      <td>23</td>\n",
       "      <td>12.30</td>\n",
       "      <td>81</td>\n",
       "      <td>524</td>\n",
       "      <td>graduate</td>\n",
       "      <td>EN</td>\n",
       "      <td>Web</td>\n",
       "      <td>466</td>\n",
       "      <td>An Open Letter to GaleForce9*:\\n\\nYour unpaint...</td>\n",
       "      <td>Another worthless Dungeon Master's screen from...</td>\n",
       "    </tr>\n",
       "    <tr>\n",
       "      <th>2</th>\n",
       "      <td>Female</td>\n",
       "      <td>22</td>\n",
       "      <td>13.12</td>\n",
       "      <td>6</td>\n",
       "      <td>40</td>\n",
       "      <td>graduate</td>\n",
       "      <td>EN</td>\n",
       "      <td>Web</td>\n",
       "      <td>254</td>\n",
       "      <td>Nice art, nice printing.  Why two panels are f...</td>\n",
       "      <td>pretty, but also pretty useless</td>\n",
       "    </tr>\n",
       "    <tr>\n",
       "      <th>3</th>\n",
       "      <td>Female</td>\n",
       "      <td>25</td>\n",
       "      <td>13.12</td>\n",
       "      <td>77</td>\n",
       "      <td>562</td>\n",
       "      <td>graduate</td>\n",
       "      <td>EN</td>\n",
       "      <td>Web</td>\n",
       "      <td>263</td>\n",
       "      <td>Amazing buy! Bought it as a gift for our new d...</td>\n",
       "      <td>Five Stars</td>\n",
       "    </tr>\n",
       "    <tr>\n",
       "      <th>4</th>\n",
       "      <td>Female</td>\n",
       "      <td>33</td>\n",
       "      <td>13.94</td>\n",
       "      <td>40</td>\n",
       "      <td>366</td>\n",
       "      <td>graduate</td>\n",
       "      <td>EN</td>\n",
       "      <td>Web</td>\n",
       "      <td>291</td>\n",
       "      <td>As my review of GF9's previous screens these w...</td>\n",
       "      <td>Money trap</td>\n",
       "    </tr>\n",
       "  </tbody>\n",
       "</table>\n",
       "</div>"
      ],
      "text/plain": [
       "   gender  age  remuneration (k£)  spending_score (1-100)  loyalty_points  \\\n",
       "0    Male   18              12.30                      39             210   \n",
       "1    Male   23              12.30                      81             524   \n",
       "2  Female   22              13.12                       6              40   \n",
       "3  Female   25              13.12                      77             562   \n",
       "4  Female   33              13.94                      40             366   \n",
       "\n",
       "  education language platform  product  \\\n",
       "0  graduate       EN      Web      453   \n",
       "1  graduate       EN      Web      466   \n",
       "2  graduate       EN      Web      254   \n",
       "3  graduate       EN      Web      263   \n",
       "4  graduate       EN      Web      291   \n",
       "\n",
       "                                              review  \\\n",
       "0  When it comes to a DM's screen, the space on t...   \n",
       "1  An Open Letter to GaleForce9*:\\n\\nYour unpaint...   \n",
       "2  Nice art, nice printing.  Why two panels are f...   \n",
       "3  Amazing buy! Bought it as a gift for our new d...   \n",
       "4  As my review of GF9's previous screens these w...   \n",
       "\n",
       "                                             summary  \n",
       "0  The fact that 50% of this space is wasted on a...  \n",
       "1  Another worthless Dungeon Master's screen from...  \n",
       "2                    pretty, but also pretty useless  \n",
       "3                                         Five Stars  \n",
       "4                                         Money trap  "
      ]
     },
     "execution_count": 3,
     "metadata": {},
     "output_type": "execute_result"
    }
   ],
   "source": [
    "# View the first five rows of df_reviews.\n",
    "df_reviews.head()"
   ]
  },
  {
   "cell_type": "code",
   "execution_count": 4,
   "id": "2d9b1992",
   "metadata": {
    "scrolled": true
   },
   "outputs": [
    {
     "name": "stdout",
     "output_type": "stream",
     "text": [
      "<class 'pandas.core.frame.DataFrame'>\n",
      "RangeIndex: 2000 entries, 0 to 1999\n",
      "Data columns (total 11 columns):\n",
      " #   Column                  Non-Null Count  Dtype  \n",
      "---  ------                  --------------  -----  \n",
      " 0   gender                  2000 non-null   object \n",
      " 1   age                     2000 non-null   int64  \n",
      " 2   remuneration (k£)       2000 non-null   float64\n",
      " 3   spending_score (1-100)  2000 non-null   int64  \n",
      " 4   loyalty_points          2000 non-null   int64  \n",
      " 5   education               2000 non-null   object \n",
      " 6   language                2000 non-null   object \n",
      " 7   platform                2000 non-null   object \n",
      " 8   product                 2000 non-null   int64  \n",
      " 9   review                  2000 non-null   object \n",
      " 10  summary                 2000 non-null   object \n",
      "dtypes: float64(1), int64(4), object(6)\n",
      "memory usage: 172.0+ KB\n"
     ]
    }
   ],
   "source": [
    "# View information about df_reviews.\n",
    "df_reviews.info()"
   ]
  },
  {
   "cell_type": "markdown",
   "id": "86e23a6f",
   "metadata": {},
   "source": [
    "###### Comment on data types\n",
    "Based on the description in the metadata text file (see below for summary), the data type for all columns seems reasonable with the exception of the column `'product'` (representing the product code) which we could change from `int64` to `object`."
   ]
  },
  {
   "cell_type": "code",
   "execution_count": 5,
   "id": "847b0d55",
   "metadata": {},
   "outputs": [],
   "source": [
    "# Change the data type of 'product' from integer to object.\n",
    "df_reviews = df_reviews.astype({'product': object})"
   ]
  },
  {
   "cell_type": "code",
   "execution_count": 6,
   "id": "0022a9ea",
   "metadata": {},
   "outputs": [
    {
     "data": {
      "text/plain": [
       "gender                     object\n",
       "age                         int64\n",
       "remuneration (k£)         float64\n",
       "spending_score (1-100)      int64\n",
       "loyalty_points              int64\n",
       "education                  object\n",
       "language                   object\n",
       "platform                   object\n",
       "product                    object\n",
       "review                     object\n",
       "summary                    object\n",
       "dtype: object"
      ]
     },
     "execution_count": 6,
     "metadata": {},
     "output_type": "execute_result"
    }
   ],
   "source": [
    "# Check data type change was done.\n",
    "df_reviews.dtypes"
   ]
  },
  {
   "cell_type": "markdown",
   "id": "a1d44389",
   "metadata": {},
   "source": [
    "##### Check for missing values\n",
    "Missing values can affect the results of our analysis in unexpected and undesired ways.\n",
    "\n",
    "We've already seen from running the `.info()` method that there are no missing values in our data because for all columns all 2000 records show `'No-Null Count'`."
   ]
  },
  {
   "cell_type": "markdown",
   "id": "4508d4c7",
   "metadata": {},
   "source": [
    "###### Additional check for missing values\n",
    "We could run an additional check using the `isnull()` method on each of the columns as per the example in the code snippet below."
   ]
  },
  {
   "cell_type": "code",
   "execution_count": 7,
   "id": "c0eb2841",
   "metadata": {},
   "outputs": [
    {
     "data": {
      "text/html": [
       "<div>\n",
       "<style scoped>\n",
       "    .dataframe tbody tr th:only-of-type {\n",
       "        vertical-align: middle;\n",
       "    }\n",
       "\n",
       "    .dataframe tbody tr th {\n",
       "        vertical-align: top;\n",
       "    }\n",
       "\n",
       "    .dataframe thead th {\n",
       "        text-align: right;\n",
       "    }\n",
       "</style>\n",
       "<table border=\"1\" class=\"dataframe\">\n",
       "  <thead>\n",
       "    <tr style=\"text-align: right;\">\n",
       "      <th></th>\n",
       "      <th>gender</th>\n",
       "      <th>age</th>\n",
       "      <th>remuneration (k£)</th>\n",
       "      <th>spending_score (1-100)</th>\n",
       "      <th>loyalty_points</th>\n",
       "      <th>education</th>\n",
       "      <th>language</th>\n",
       "      <th>platform</th>\n",
       "      <th>product</th>\n",
       "      <th>review</th>\n",
       "      <th>summary</th>\n",
       "    </tr>\n",
       "  </thead>\n",
       "  <tbody>\n",
       "  </tbody>\n",
       "</table>\n",
       "</div>"
      ],
      "text/plain": [
       "Empty DataFrame\n",
       "Columns: [gender, age, remuneration (k£), spending_score (1-100), loyalty_points, education, language, platform, product, review, summary]\n",
       "Index: []"
      ]
     },
     "execution_count": 7,
     "metadata": {},
     "output_type": "execute_result"
    }
   ],
   "source": [
    "# Additional check for missing values.\n",
    "df_reviews[df_reviews['gender'].isnull()]"
   ]
  },
  {
   "cell_type": "markdown",
   "id": "d581d33c",
   "metadata": {},
   "source": [
    "###### Comment on missing values\n",
    "\n",
    "The code snippet above would have returned the rows where `'gender'` had no value. No rows were returned, meaning there are no missing values in the column `'gender'`.\n",
    "\n",
    "The same result is returned for each of the other ten columns.\n",
    "\n",
    "To keep this notebook short we deleted the check for the ten columns."
   ]
  },
  {
   "cell_type": "code",
   "execution_count": 8,
   "id": "20f5f652",
   "metadata": {
    "scrolled": true
   },
   "outputs": [
    {
     "data": {
      "text/html": [
       "<div>\n",
       "<style scoped>\n",
       "    .dataframe tbody tr th:only-of-type {\n",
       "        vertical-align: middle;\n",
       "    }\n",
       "\n",
       "    .dataframe tbody tr th {\n",
       "        vertical-align: top;\n",
       "    }\n",
       "\n",
       "    .dataframe thead th {\n",
       "        text-align: right;\n",
       "    }\n",
       "</style>\n",
       "<table border=\"1\" class=\"dataframe\">\n",
       "  <thead>\n",
       "    <tr style=\"text-align: right;\">\n",
       "      <th></th>\n",
       "      <th>age</th>\n",
       "      <th>remuneration (k£)</th>\n",
       "      <th>spending_score (1-100)</th>\n",
       "      <th>loyalty_points</th>\n",
       "    </tr>\n",
       "  </thead>\n",
       "  <tbody>\n",
       "    <tr>\n",
       "      <th>count</th>\n",
       "      <td>2000.000000</td>\n",
       "      <td>2000.000000</td>\n",
       "      <td>2000.000000</td>\n",
       "      <td>2000.000000</td>\n",
       "    </tr>\n",
       "    <tr>\n",
       "      <th>mean</th>\n",
       "      <td>39.495000</td>\n",
       "      <td>48.079060</td>\n",
       "      <td>50.000000</td>\n",
       "      <td>1578.032000</td>\n",
       "    </tr>\n",
       "    <tr>\n",
       "      <th>std</th>\n",
       "      <td>13.573212</td>\n",
       "      <td>23.123984</td>\n",
       "      <td>26.094702</td>\n",
       "      <td>1283.239705</td>\n",
       "    </tr>\n",
       "    <tr>\n",
       "      <th>min</th>\n",
       "      <td>17.000000</td>\n",
       "      <td>12.300000</td>\n",
       "      <td>1.000000</td>\n",
       "      <td>25.000000</td>\n",
       "    </tr>\n",
       "    <tr>\n",
       "      <th>25%</th>\n",
       "      <td>29.000000</td>\n",
       "      <td>30.340000</td>\n",
       "      <td>32.000000</td>\n",
       "      <td>772.000000</td>\n",
       "    </tr>\n",
       "    <tr>\n",
       "      <th>50%</th>\n",
       "      <td>38.000000</td>\n",
       "      <td>47.150000</td>\n",
       "      <td>50.000000</td>\n",
       "      <td>1276.000000</td>\n",
       "    </tr>\n",
       "    <tr>\n",
       "      <th>75%</th>\n",
       "      <td>49.000000</td>\n",
       "      <td>63.960000</td>\n",
       "      <td>73.000000</td>\n",
       "      <td>1751.250000</td>\n",
       "    </tr>\n",
       "    <tr>\n",
       "      <th>max</th>\n",
       "      <td>72.000000</td>\n",
       "      <td>112.340000</td>\n",
       "      <td>99.000000</td>\n",
       "      <td>6847.000000</td>\n",
       "    </tr>\n",
       "  </tbody>\n",
       "</table>\n",
       "</div>"
      ],
      "text/plain": [
       "               age  remuneration (k£)  spending_score (1-100)  loyalty_points\n",
       "count  2000.000000        2000.000000             2000.000000     2000.000000\n",
       "mean     39.495000          48.079060               50.000000     1578.032000\n",
       "std      13.573212          23.123984               26.094702     1283.239705\n",
       "min      17.000000          12.300000                1.000000       25.000000\n",
       "25%      29.000000          30.340000               32.000000      772.000000\n",
       "50%      38.000000          47.150000               50.000000     1276.000000\n",
       "75%      49.000000          63.960000               73.000000     1751.250000\n",
       "max      72.000000         112.340000               99.000000     6847.000000"
      ]
     },
     "execution_count": 8,
     "metadata": {},
     "output_type": "execute_result"
    }
   ],
   "source": [
    "# View summary of descriptive statistics.\n",
    "df_reviews.describe()"
   ]
  },
  {
   "cell_type": "markdown",
   "id": "42c048fa",
   "metadata": {},
   "source": [
    "###### Summary of what we see from exploring the data in `df_reviews`\n",
    "From looking at the:\n",
    "- metadata text file\n",
    "- top five rows of the DataFrame\n",
    "- return from applying the `.info()` method\n",
    "- check for missing values\n",
    "- summary of descriptive statistics\n",
    "\n",
    "we see that:\n",
    "- each row in `'turtle_reviews.csv'` gives information for each of 2,000 individual customers\n",
    "- there are no missing values\n",
    "- the range of values in each column seems reasonable\n",
    "- the `'language'` column may be redundant given all review comments are in English\n",
    "- the `'platform'` column may be redundant given all review comments were obtained from the Turtle Games website"
   ]
  },
  {
   "cell_type": "markdown",
   "id": "607de442",
   "metadata": {},
   "source": [
    "#### Week 1 | Goal 1 | Step 3\n",
    "Remove redundant columns and export to `csv`"
   ]
  },
  {
   "cell_type": "code",
   "execution_count": 9,
   "id": "f9a076bb",
   "metadata": {},
   "outputs": [],
   "source": [
    "# Remove the redunctant columns - 'language' and 'platform'.\n",
    "df_reviews = df_reviews.drop(columns=['language', 'platform'])"
   ]
  },
  {
   "cell_type": "code",
   "execution_count": 10,
   "id": "09c11f56",
   "metadata": {},
   "outputs": [],
   "source": [
    "# Change the columns names to names easier to reference.\n",
    "df_reviews = df_reviews.rename(\n",
    "    columns={'remuneration (k£)': 'remuneration',\n",
    "            'spending_score (1-100)': 'spending_score',\n",
    "            'product': 'product_code',\n",
    "            'review': 'review_full_text',\n",
    "            'summary': 'review_summary'})"
   ]
  },
  {
   "cell_type": "code",
   "execution_count": 11,
   "id": "b117a35b",
   "metadata": {
    "scrolled": true
   },
   "outputs": [
    {
     "data": {
      "text/html": [
       "<div>\n",
       "<style scoped>\n",
       "    .dataframe tbody tr th:only-of-type {\n",
       "        vertical-align: middle;\n",
       "    }\n",
       "\n",
       "    .dataframe tbody tr th {\n",
       "        vertical-align: top;\n",
       "    }\n",
       "\n",
       "    .dataframe thead th {\n",
       "        text-align: right;\n",
       "    }\n",
       "</style>\n",
       "<table border=\"1\" class=\"dataframe\">\n",
       "  <thead>\n",
       "    <tr style=\"text-align: right;\">\n",
       "      <th></th>\n",
       "      <th>gender</th>\n",
       "      <th>age</th>\n",
       "      <th>remuneration</th>\n",
       "      <th>spending_score</th>\n",
       "      <th>loyalty_points</th>\n",
       "      <th>education</th>\n",
       "      <th>product_code</th>\n",
       "      <th>review_full_text</th>\n",
       "      <th>review_summary</th>\n",
       "    </tr>\n",
       "  </thead>\n",
       "  <tbody>\n",
       "    <tr>\n",
       "      <th>0</th>\n",
       "      <td>Male</td>\n",
       "      <td>18</td>\n",
       "      <td>12.30</td>\n",
       "      <td>39</td>\n",
       "      <td>210</td>\n",
       "      <td>graduate</td>\n",
       "      <td>453</td>\n",
       "      <td>When it comes to a DM's screen, the space on t...</td>\n",
       "      <td>The fact that 50% of this space is wasted on a...</td>\n",
       "    </tr>\n",
       "    <tr>\n",
       "      <th>1</th>\n",
       "      <td>Male</td>\n",
       "      <td>23</td>\n",
       "      <td>12.30</td>\n",
       "      <td>81</td>\n",
       "      <td>524</td>\n",
       "      <td>graduate</td>\n",
       "      <td>466</td>\n",
       "      <td>An Open Letter to GaleForce9*:\\n\\nYour unpaint...</td>\n",
       "      <td>Another worthless Dungeon Master's screen from...</td>\n",
       "    </tr>\n",
       "    <tr>\n",
       "      <th>2</th>\n",
       "      <td>Female</td>\n",
       "      <td>22</td>\n",
       "      <td>13.12</td>\n",
       "      <td>6</td>\n",
       "      <td>40</td>\n",
       "      <td>graduate</td>\n",
       "      <td>254</td>\n",
       "      <td>Nice art, nice printing.  Why two panels are f...</td>\n",
       "      <td>pretty, but also pretty useless</td>\n",
       "    </tr>\n",
       "    <tr>\n",
       "      <th>3</th>\n",
       "      <td>Female</td>\n",
       "      <td>25</td>\n",
       "      <td>13.12</td>\n",
       "      <td>77</td>\n",
       "      <td>562</td>\n",
       "      <td>graduate</td>\n",
       "      <td>263</td>\n",
       "      <td>Amazing buy! Bought it as a gift for our new d...</td>\n",
       "      <td>Five Stars</td>\n",
       "    </tr>\n",
       "    <tr>\n",
       "      <th>4</th>\n",
       "      <td>Female</td>\n",
       "      <td>33</td>\n",
       "      <td>13.94</td>\n",
       "      <td>40</td>\n",
       "      <td>366</td>\n",
       "      <td>graduate</td>\n",
       "      <td>291</td>\n",
       "      <td>As my review of GF9's previous screens these w...</td>\n",
       "      <td>Money trap</td>\n",
       "    </tr>\n",
       "  </tbody>\n",
       "</table>\n",
       "</div>"
      ],
      "text/plain": [
       "   gender  age  remuneration  spending_score  loyalty_points education  \\\n",
       "0    Male   18         12.30              39             210  graduate   \n",
       "1    Male   23         12.30              81             524  graduate   \n",
       "2  Female   22         13.12               6              40  graduate   \n",
       "3  Female   25         13.12              77             562  graduate   \n",
       "4  Female   33         13.94              40             366  graduate   \n",
       "\n",
       "  product_code                                   review_full_text  \\\n",
       "0          453  When it comes to a DM's screen, the space on t...   \n",
       "1          466  An Open Letter to GaleForce9*:\\n\\nYour unpaint...   \n",
       "2          254  Nice art, nice printing.  Why two panels are f...   \n",
       "3          263  Amazing buy! Bought it as a gift for our new d...   \n",
       "4          291  As my review of GF9's previous screens these w...   \n",
       "\n",
       "                                      review_summary  \n",
       "0  The fact that 50% of this space is wasted on a...  \n",
       "1  Another worthless Dungeon Master's screen from...  \n",
       "2                    pretty, but also pretty useless  \n",
       "3                                         Five Stars  \n",
       "4                                         Money trap  "
      ]
     },
     "execution_count": 11,
     "metadata": {},
     "output_type": "execute_result"
    }
   ],
   "source": [
    "# Check removal and rename of columns done as expected.\n",
    "df_reviews.head()"
   ]
  },
  {
   "cell_type": "code",
   "execution_count": 12,
   "id": "b29c01d8",
   "metadata": {},
   "outputs": [],
   "source": [
    "# Write the cleaned data to a csv file.\n",
    "df_reviews.to_csv('turtle_reviews_clean.csv')"
   ]
  },
  {
   "cell_type": "code",
   "execution_count": 13,
   "id": "3f750834",
   "metadata": {},
   "outputs": [],
   "source": [
    "# Import the cleaned data from the new csv file.\n",
    "df_reviews_clean = pd.read_csv('turtle_reviews_clean.csv')"
   ]
  },
  {
   "cell_type": "code",
   "execution_count": 14,
   "id": "a7815aa7",
   "metadata": {},
   "outputs": [
    {
     "data": {
      "text/html": [
       "<div>\n",
       "<style scoped>\n",
       "    .dataframe tbody tr th:only-of-type {\n",
       "        vertical-align: middle;\n",
       "    }\n",
       "\n",
       "    .dataframe tbody tr th {\n",
       "        vertical-align: top;\n",
       "    }\n",
       "\n",
       "    .dataframe thead th {\n",
       "        text-align: right;\n",
       "    }\n",
       "</style>\n",
       "<table border=\"1\" class=\"dataframe\">\n",
       "  <thead>\n",
       "    <tr style=\"text-align: right;\">\n",
       "      <th></th>\n",
       "      <th>Unnamed: 0</th>\n",
       "      <th>gender</th>\n",
       "      <th>age</th>\n",
       "      <th>remuneration</th>\n",
       "      <th>spending_score</th>\n",
       "      <th>loyalty_points</th>\n",
       "      <th>education</th>\n",
       "      <th>product_code</th>\n",
       "      <th>review_full_text</th>\n",
       "      <th>review_summary</th>\n",
       "    </tr>\n",
       "  </thead>\n",
       "  <tbody>\n",
       "    <tr>\n",
       "      <th>0</th>\n",
       "      <td>0</td>\n",
       "      <td>Male</td>\n",
       "      <td>18</td>\n",
       "      <td>12.30</td>\n",
       "      <td>39</td>\n",
       "      <td>210</td>\n",
       "      <td>graduate</td>\n",
       "      <td>453</td>\n",
       "      <td>When it comes to a DM's screen, the space on t...</td>\n",
       "      <td>The fact that 50% of this space is wasted on a...</td>\n",
       "    </tr>\n",
       "    <tr>\n",
       "      <th>1</th>\n",
       "      <td>1</td>\n",
       "      <td>Male</td>\n",
       "      <td>23</td>\n",
       "      <td>12.30</td>\n",
       "      <td>81</td>\n",
       "      <td>524</td>\n",
       "      <td>graduate</td>\n",
       "      <td>466</td>\n",
       "      <td>An Open Letter to GaleForce9*:\\n\\nYour unpaint...</td>\n",
       "      <td>Another worthless Dungeon Master's screen from...</td>\n",
       "    </tr>\n",
       "    <tr>\n",
       "      <th>2</th>\n",
       "      <td>2</td>\n",
       "      <td>Female</td>\n",
       "      <td>22</td>\n",
       "      <td>13.12</td>\n",
       "      <td>6</td>\n",
       "      <td>40</td>\n",
       "      <td>graduate</td>\n",
       "      <td>254</td>\n",
       "      <td>Nice art, nice printing.  Why two panels are f...</td>\n",
       "      <td>pretty, but also pretty useless</td>\n",
       "    </tr>\n",
       "    <tr>\n",
       "      <th>3</th>\n",
       "      <td>3</td>\n",
       "      <td>Female</td>\n",
       "      <td>25</td>\n",
       "      <td>13.12</td>\n",
       "      <td>77</td>\n",
       "      <td>562</td>\n",
       "      <td>graduate</td>\n",
       "      <td>263</td>\n",
       "      <td>Amazing buy! Bought it as a gift for our new d...</td>\n",
       "      <td>Five Stars</td>\n",
       "    </tr>\n",
       "    <tr>\n",
       "      <th>4</th>\n",
       "      <td>4</td>\n",
       "      <td>Female</td>\n",
       "      <td>33</td>\n",
       "      <td>13.94</td>\n",
       "      <td>40</td>\n",
       "      <td>366</td>\n",
       "      <td>graduate</td>\n",
       "      <td>291</td>\n",
       "      <td>As my review of GF9's previous screens these w...</td>\n",
       "      <td>Money trap</td>\n",
       "    </tr>\n",
       "  </tbody>\n",
       "</table>\n",
       "</div>"
      ],
      "text/plain": [
       "   Unnamed: 0  gender  age  remuneration  spending_score  loyalty_points  \\\n",
       "0           0    Male   18         12.30              39             210   \n",
       "1           1    Male   23         12.30              81             524   \n",
       "2           2  Female   22         13.12               6              40   \n",
       "3           3  Female   25         13.12              77             562   \n",
       "4           4  Female   33         13.94              40             366   \n",
       "\n",
       "  education  product_code                                   review_full_text  \\\n",
       "0  graduate           453  When it comes to a DM's screen, the space on t...   \n",
       "1  graduate           466  An Open Letter to GaleForce9*:\\n\\nYour unpaint...   \n",
       "2  graduate           254  Nice art, nice printing.  Why two panels are f...   \n",
       "3  graduate           263  Amazing buy! Bought it as a gift for our new d...   \n",
       "4  graduate           291  As my review of GF9's previous screens these w...   \n",
       "\n",
       "                                      review_summary  \n",
       "0  The fact that 50% of this space is wasted on a...  \n",
       "1  Another worthless Dungeon Master's screen from...  \n",
       "2                    pretty, but also pretty useless  \n",
       "3                                         Five Stars  \n",
       "4                                         Money trap  "
      ]
     },
     "execution_count": 14,
     "metadata": {},
     "output_type": "execute_result"
    }
   ],
   "source": [
    "# View first five rows of the cleaned DataFrame.\n",
    "df_reviews_clean.head()"
   ]
  },
  {
   "cell_type": "code",
   "execution_count": 15,
   "id": "b90d7197",
   "metadata": {},
   "outputs": [],
   "source": [
    "# Change the data type of 'product_code' from integer to object.\n",
    "df_reviews_clean = df_reviews_clean.astype({'product_code': object})"
   ]
  },
  {
   "cell_type": "code",
   "execution_count": 16,
   "id": "7156d567",
   "metadata": {},
   "outputs": [],
   "source": [
    "# Drop the column 'Unnamed: 0'.\n",
    "df_reviews_clean = df_reviews_clean.drop(columns='Unnamed: 0')"
   ]
  },
  {
   "cell_type": "code",
   "execution_count": 17,
   "id": "8d9e0747",
   "metadata": {},
   "outputs": [
    {
     "data": {
      "text/plain": [
       "(2000, 9)"
      ]
     },
     "execution_count": 17,
     "metadata": {},
     "output_type": "execute_result"
    }
   ],
   "source": [
    "# Sense-check shape.\n",
    "df_reviews_clean.shape"
   ]
  },
  {
   "cell_type": "code",
   "execution_count": 18,
   "id": "c8ac0a6b",
   "metadata": {},
   "outputs": [
    {
     "name": "stdout",
     "output_type": "stream",
     "text": [
      "<class 'pandas.core.frame.DataFrame'>\n",
      "RangeIndex: 2000 entries, 0 to 1999\n",
      "Data columns (total 9 columns):\n",
      " #   Column            Non-Null Count  Dtype  \n",
      "---  ------            --------------  -----  \n",
      " 0   gender            2000 non-null   object \n",
      " 1   age               2000 non-null   int64  \n",
      " 2   remuneration      2000 non-null   float64\n",
      " 3   spending_score    2000 non-null   int64  \n",
      " 4   loyalty_points    2000 non-null   int64  \n",
      " 5   education         2000 non-null   object \n",
      " 6   product_code      2000 non-null   object \n",
      " 7   review_full_text  2000 non-null   object \n",
      " 8   review_summary    2000 non-null   object \n",
      "dtypes: float64(1), int64(3), object(5)\n",
      "memory usage: 140.8+ KB\n"
     ]
    }
   ],
   "source": [
    "# Sense-check info.\n",
    "df_reviews_clean.info()"
   ]
  },
  {
   "cell_type": "markdown",
   "id": "342cdc6d",
   "metadata": {},
   "source": [
    "###### Sense-check results\n",
    "The shape and metadata are as expected."
   ]
  },
  {
   "cell_type": "markdown",
   "id": "f3e6b449",
   "metadata": {},
   "source": [
    "###### Questions remaining at the end of out data exploration and cleaning\n",
    "\n",
    "1. What are the controls in place to ensure the accuracy, completeness, and validity of the data in `'turtle_reviews.csv'`?\n",
    "\n",
    "\n",
    "\n",
    "2. How were the 2,000 customers selected?\n",
    "\n",
    "\n",
    "\n",
    "3. What other columns are available and relevant to our analysis, but not included in `df_reviews`?\n",
    "\n",
    "\n",
    "\n",
    "4. The metadata describes `'spending_score'` as 'a score (between 1 and 100) assigned to each customer based on the customer's spending nature and behaviour'.\\\n",
    "How are 'spending nature' and 'spending behaviour' measured?\\\n",
    "How is `'spending_score'` mapped to 'spending nature' and spending behaviour' measures?\\\n",
    "Are spending scores comparable across customers?\n",
    "\n",
    "\n",
    "\n",
    "5. The metadata describes `'loyalty_points'` as 'a score based on the point value of the purchase'.\\\n",
    "How are `'loyalty_points'` mapped to 'purchase value' (for example, is it one loyalty point per £1 of purchase)?"
   ]
  },
  {
   "cell_type": "markdown",
   "id": "ac8b59b8",
   "metadata": {},
   "source": [
    "### Week 1 | Goal 2\n",
    "How customers accumulate loyalty points is understood"
   ]
  },
  {
   "cell_type": "markdown",
   "id": "e13eee67",
   "metadata": {},
   "source": [
    "#### Understanding the question\n",
    "The question as expressed by Tutle Games is\n",
    "> 'How do customers accummulate loyalty points?'\n",
    "\n",
    "One way to reformulate and break down the question is\n",
    "> Does the number of loyalty points accummulated by customers depend on or vary in line with the customer's (1) `'age'`, (2) `'remuneration'`, or (3) `'spending_score'`?\n",
    "\n",
    "To begin towards answering the question we will assess the degree to which there may be a linear relationship between loayalty points as the dependent variable and each of `'age'`, `'remuneration'` and `'spending_score'` as the independent variables."
   ]
  },
  {
   "cell_type": "code",
   "execution_count": 19,
   "id": "bf30fbd9",
   "metadata": {
    "scrolled": false
   },
   "outputs": [
    {
     "data": {
      "text/html": [
       "<div>\n",
       "<style scoped>\n",
       "    .dataframe tbody tr th:only-of-type {\n",
       "        vertical-align: middle;\n",
       "    }\n",
       "\n",
       "    .dataframe tbody tr th {\n",
       "        vertical-align: top;\n",
       "    }\n",
       "\n",
       "    .dataframe thead th {\n",
       "        text-align: right;\n",
       "    }\n",
       "</style>\n",
       "<table border=\"1\" class=\"dataframe\">\n",
       "  <thead>\n",
       "    <tr style=\"text-align: right;\">\n",
       "      <th></th>\n",
       "      <th>age</th>\n",
       "      <th>remuneration</th>\n",
       "      <th>spending_score</th>\n",
       "      <th>loyalty_points</th>\n",
       "    </tr>\n",
       "  </thead>\n",
       "  <tbody>\n",
       "    <tr>\n",
       "      <th>age</th>\n",
       "      <td>1.000000</td>\n",
       "      <td>-0.005708</td>\n",
       "      <td>-0.224334</td>\n",
       "      <td>-0.042445</td>\n",
       "    </tr>\n",
       "    <tr>\n",
       "      <th>remuneration</th>\n",
       "      <td>-0.005708</td>\n",
       "      <td>1.000000</td>\n",
       "      <td>0.005612</td>\n",
       "      <td>0.616065</td>\n",
       "    </tr>\n",
       "    <tr>\n",
       "      <th>spending_score</th>\n",
       "      <td>-0.224334</td>\n",
       "      <td>0.005612</td>\n",
       "      <td>1.000000</td>\n",
       "      <td>0.672310</td>\n",
       "    </tr>\n",
       "    <tr>\n",
       "      <th>loyalty_points</th>\n",
       "      <td>-0.042445</td>\n",
       "      <td>0.616065</td>\n",
       "      <td>0.672310</td>\n",
       "      <td>1.000000</td>\n",
       "    </tr>\n",
       "  </tbody>\n",
       "</table>\n",
       "</div>"
      ],
      "text/plain": [
       "                     age  remuneration  spending_score  loyalty_points\n",
       "age             1.000000     -0.005708       -0.224334       -0.042445\n",
       "remuneration   -0.005708      1.000000        0.005612        0.616065\n",
       "spending_score -0.224334      0.005612        1.000000        0.672310\n",
       "loyalty_points -0.042445      0.616065        0.672310        1.000000"
      ]
     },
     "execution_count": 19,
     "metadata": {},
     "output_type": "execute_result"
    }
   ],
   "source": [
    "# View the correlation between each pair of variables.\n",
    "df_reviews_clean.corr()"
   ]
  },
  {
   "cell_type": "markdown",
   "id": "18a81a8f",
   "metadata": {},
   "source": [
    "### (1) Relationship between customer `'age'` and `'loyalty_points'`"
   ]
  },
  {
   "cell_type": "code",
   "execution_count": 20,
   "id": "e72c9f46",
   "metadata": {},
   "outputs": [],
   "source": [
    "# Define the independent variable.\n",
    "y = df_reviews_clean['loyalty_points']\n",
    "\n",
    "# Define the dependent variable.\n",
    "x = df_reviews_clean['age']"
   ]
  },
  {
   "cell_type": "code",
   "execution_count": 21,
   "id": "f85e1c6a",
   "metadata": {
    "scrolled": true
   },
   "outputs": [
    {
     "data": {
      "image/png": "[encoded data removed]",
      "text/plain": [
       "<Figure size 432x288 with 1 Axes>"
      ]
     },
     "metadata": {
      "needs_background": "light"
     },
     "output_type": "display_data"
    }
   ],
   "source": [
    "# Visualise the scatterplot of 'age' and 'loyalty_points'.\n",
    "plt.scatter(x, y, alpha = .3) \n",
    "\"\"\"To see the concentration of data points,\n",
    "set alpha (data point transparency) at 0.3.\"\"\"\n",
    "\n",
    "# Set the y and x limits on the axes.\n",
    "plt.ylim(0, 7000)\n",
    "plt.xlim(15,75)\n",
    "\n",
    "# Label the axes.\n",
    "plt.xlabel('Age')\n",
    "plt.ylabel('Loyalty Points')\n",
    "\n",
    "# View the plot.\n",
    "plt.show()"
   ]
  },
  {
   "cell_type": "code",
   "execution_count": 22,
   "id": "e0129fea",
   "metadata": {},
   "outputs": [],
   "source": [
    "# Create the OLS model.\n",
    "f = 'y ~ x'\n",
    "test = ols(f, data = df_reviews_clean).fit()"
   ]
  },
  {
   "cell_type": "code",
   "execution_count": 23,
   "id": "ed16bf38",
   "metadata": {
    "scrolled": true
   },
   "outputs": [
    {
     "data": {
      "text/html": [
       "<table class=\"simpletable\">\n",
       "<caption>OLS Regression Results</caption>\n",
       "<tr>\n",
       "  <th>Dep. Variable:</th>            <td>y</td>        <th>  R-squared:         </th> <td>   0.002</td> \n",
       "</tr>\n",
       "<tr>\n",
       "  <th>Model:</th>                   <td>OLS</td>       <th>  Adj. R-squared:    </th> <td>   0.001</td> \n",
       "</tr>\n",
       "<tr>\n",
       "  <th>Method:</th>             <td>Least Squares</td>  <th>  F-statistic:       </th> <td>   3.606</td> \n",
       "</tr>\n",
       "<tr>\n",
       "  <th>Date:</th>             <td>Tue, 27 Dec 2022</td> <th>  Prob (F-statistic):</th>  <td>0.0577</td>  \n",
       "</tr>\n",
       "<tr>\n",
       "  <th>Time:</th>                 <td>13:40:58</td>     <th>  Log-Likelihood:    </th> <td> -17150.</td> \n",
       "</tr>\n",
       "<tr>\n",
       "  <th>No. Observations:</th>      <td>  2000</td>      <th>  AIC:               </th> <td>3.430e+04</td>\n",
       "</tr>\n",
       "<tr>\n",
       "  <th>Df Residuals:</th>          <td>  1998</td>      <th>  BIC:               </th> <td>3.431e+04</td>\n",
       "</tr>\n",
       "<tr>\n",
       "  <th>Df Model:</th>              <td>     1</td>      <th>                     </th>     <td> </td>    \n",
       "</tr>\n",
       "<tr>\n",
       "  <th>Covariance Type:</th>      <td>nonrobust</td>    <th>                     </th>     <td> </td>    \n",
       "</tr>\n",
       "</table>\n",
       "<table class=\"simpletable\">\n",
       "<tr>\n",
       "      <td></td>         <th>coef</th>     <th>std err</th>      <th>t</th>      <th>P>|t|</th>  <th>[0.025</th>    <th>0.975]</th>  \n",
       "</tr>\n",
       "<tr>\n",
       "  <th>Intercept</th> <td> 1736.5177</td> <td>   88.249</td> <td>   19.678</td> <td> 0.000</td> <td> 1563.449</td> <td> 1909.587</td>\n",
       "</tr>\n",
       "<tr>\n",
       "  <th>x</th>         <td>   -4.0128</td> <td>    2.113</td> <td>   -1.899</td> <td> 0.058</td> <td>   -8.157</td> <td>    0.131</td>\n",
       "</tr>\n",
       "</table>\n",
       "<table class=\"simpletable\">\n",
       "<tr>\n",
       "  <th>Omnibus:</th>       <td>481.477</td> <th>  Durbin-Watson:     </th> <td>   2.277</td> \n",
       "</tr>\n",
       "<tr>\n",
       "  <th>Prob(Omnibus):</th> <td> 0.000</td>  <th>  Jarque-Bera (JB):  </th> <td> 937.734</td> \n",
       "</tr>\n",
       "<tr>\n",
       "  <th>Skew:</th>          <td> 1.449</td>  <th>  Prob(JB):          </th> <td>2.36e-204</td>\n",
       "</tr>\n",
       "<tr>\n",
       "  <th>Kurtosis:</th>      <td> 4.688</td>  <th>  Cond. No.          </th> <td>    129.</td> \n",
       "</tr>\n",
       "</table><br/><br/>Notes:<br/>[1] Standard Errors assume that the covariance matrix of the errors is correctly specified."
      ],
      "text/plain": [
       "<class 'statsmodels.iolib.summary.Summary'>\n",
       "\"\"\"\n",
       "                            OLS Regression Results                            \n",
       "==============================================================================\n",
       "Dep. Variable:                      y   R-squared:                       0.002\n",
       "Model:                            OLS   Adj. R-squared:                  0.001\n",
       "Method:                 Least Squares   F-statistic:                     3.606\n",
       "Date:                Tue, 27 Dec 2022   Prob (F-statistic):             0.0577\n",
       "Time:                        13:40:58   Log-Likelihood:                -17150.\n",
       "No. Observations:                2000   AIC:                         3.430e+04\n",
       "Df Residuals:                    1998   BIC:                         3.431e+04\n",
       "Df Model:                           1                                         \n",
       "Covariance Type:            nonrobust                                         \n",
       "==============================================================================\n",
       "                 coef    std err          t      P>|t|      [0.025      0.975]\n",
       "------------------------------------------------------------------------------\n",
       "Intercept   1736.5177     88.249     19.678      0.000    1563.449    1909.587\n",
       "x             -4.0128      2.113     -1.899      0.058      -8.157       0.131\n",
       "==============================================================================\n",
       "Omnibus:                      481.477   Durbin-Watson:                   2.277\n",
       "Prob(Omnibus):                  0.000   Jarque-Bera (JB):              937.734\n",
       "Skew:                           1.449   Prob(JB):                    2.36e-204\n",
       "Kurtosis:                       4.688   Cond. No.                         129.\n",
       "==============================================================================\n",
       "\n",
       "Notes:\n",
       "[1] Standard Errors assume that the covariance matrix of the errors is correctly specified.\n",
       "\"\"\""
      ]
     },
     "execution_count": 23,
     "metadata": {},
     "output_type": "execute_result"
    }
   ],
   "source": [
    "# View the regression table.\n",
    "test.summary()"
   ]
  },
  {
   "cell_type": "code",
   "execution_count": 24,
   "id": "3cd0ad53",
   "metadata": {},
   "outputs": [
    {
     "name": "stdout",
     "output_type": "stream",
     "text": [
      "Parameters:  Intercept    1736.517739\n",
      "x              -4.012805\n",
      "dtype: float64\n"
     ]
    }
   ],
   "source": [
    "# Extract the estimated parameters.\n",
    "print(\"Parameters: \", test.params)"
   ]
  },
  {
   "cell_type": "code",
   "execution_count": 25,
   "id": "07fd5783",
   "metadata": {},
   "outputs": [
    {
     "name": "stdout",
     "output_type": "stream",
     "text": [
      "Standard errors:  Intercept    88.248731\n",
      "x             2.113177\n",
      "dtype: float64\n"
     ]
    }
   ],
   "source": [
    "# Extract the standard errors.\n",
    "print(\"Standard errors: \", test.bse)"
   ]
  },
  {
   "cell_type": "code",
   "execution_count": 26,
   "id": "3c305a89",
   "metadata": {},
   "outputs": [
    {
     "name": "stdout",
     "output_type": "stream",
     "text": [
      "Predicted values:  [1664.2872467  1644.22322095 1648.2360261  ... 1600.0823643  1600.0823643\n",
      " 1608.1079746 ]\n"
     ]
    }
   ],
   "source": [
    "# Extract the predicted values.\n",
    "print(\"Predicted values: \", test.predict())"
   ]
  },
  {
   "cell_type": "code",
   "execution_count": 27,
   "id": "f828f2d5",
   "metadata": {},
   "outputs": [],
   "source": [
    "# Create the linear regression model.\n",
    "# Set the coefficient and the constant equal to the estimated parameters.\n",
    "y_pred = (1736.517739) + (-4.012805) * df_reviews_clean['age']"
   ]
  },
  {
   "cell_type": "code",
   "execution_count": 28,
   "id": "c3f56e03",
   "metadata": {},
   "outputs": [
    {
     "data": {
      "text/plain": [
       "0       1664.287249\n",
       "1       1644.223224\n",
       "2       1648.236029\n",
       "3       1636.197614\n",
       "4       1604.095174\n",
       "           ...     \n",
       "1995    1588.043954\n",
       "1996    1563.967124\n",
       "1997    1600.082369\n",
       "1998    1600.082369\n",
       "1999    1608.107979\n",
       "Name: age, Length: 2000, dtype: float64"
      ]
     },
     "execution_count": 28,
     "metadata": {},
     "output_type": "execute_result"
    }
   ],
   "source": [
    "# View the output.\n",
    "y_pred"
   ]
  },
  {
   "cell_type": "code",
   "execution_count": 29,
   "id": "81fbf590",
   "metadata": {
    "scrolled": true
   },
   "outputs": [
    {
     "data": {
      "image/png": "[encoded data removed]",
      "text/plain": [
       "<Figure size 432x288 with 1 Axes>"
      ]
     },
     "metadata": {
      "needs_background": "light"
     },
     "output_type": "display_data"
    }
   ],
   "source": [
    "# Plot the graph with a regression line.\n",
    "plt.scatter(x, y, alpha = .3)\n",
    "\n",
    "# Plot the regression line.\n",
    "plt.plot(x, y_pred, color='red')\n",
    "\n",
    "# Set the y and x limits on the axes.\n",
    "plt.ylim(0, 7000)\n",
    "plt.xlim(15,75)\n",
    "\n",
    "# Label the axes.\n",
    "plt.xlabel('Age')\n",
    "plt.ylabel('Loyalty Points')\n",
    "\n",
    "# View the plot.\n",
    "plt.show()"
   ]
  },
  {
   "cell_type": "code",
   "execution_count": 30,
   "id": "9c160a23",
   "metadata": {},
   "outputs": [],
   "source": [
    "# Define test to see whether the homoskedasticity assumption is met.\n",
    "test = sms.het_breuschpagan(test.resid, test.model.exog)"
   ]
  },
  {
   "cell_type": "code",
   "execution_count": 31,
   "id": "1a58e32f",
   "metadata": {},
   "outputs": [
    {
     "name": "stdout",
     "output_type": "stream",
     "text": [
      "{'LM stat': 13.045150861307864, 'LM Test p-value': 0.00030407066519247704, 'F-stat': 13.117666680846478, 'F-test p-value': 0.0002998192355800465}\n"
     ]
    }
   ],
   "source": [
    "# Run homoskedasticity test.\n",
    "terms = ['LM stat', 'LM Test p-value', 'F-stat', 'F-test p-value']\n",
    "print(dict(zip(terms, test)))"
   ]
  },
  {
   "cell_type": "markdown",
   "id": "91ae00c4",
   "metadata": {},
   "source": [
    "**Comments**\\\n",
    "*Homoskedastiity / homogeneity of variance*\\\n",
    "The `'LM-test p-value'` is less than 5% and therefore we cannot accept that the homoskedasticity assumption is met. This means that the variance of the outcome variable (`'loyalty_points'`) is not stable at all levels of the predictor variable (`'age'`).\n",
    "\n",
    "*Linearity*\\\n",
    "The amount of variance in `'loyalty_points'` explained by the linear model we fit to the data is 0.2% (`'R-squared'` is 0.002). Therefore the linearity assumption seems not to be met either.\n",
    "\n",
    "Looking at the scatterplot and the density of the data points for the age range 30 to 40, loyalty points may peak at ages 30 to 40.\n",
    "\n",
    "After our presentation to our stakeholders at Turtle Games of our initial data analysis results we will consider performing additional analysis to identify a non-linear model that may be a good fit to our data.  "
   ]
  },
  {
   "cell_type": "markdown",
   "id": "33147a17",
   "metadata": {},
   "source": [
    "### (2) Relationship between customer `'remuneration'` and `'loyalty_points'`"
   ]
  },
  {
   "cell_type": "code",
   "execution_count": 32,
   "id": "a16557e5",
   "metadata": {},
   "outputs": [],
   "source": [
    "# Define the independent variable.\n",
    "y = df_reviews_clean['loyalty_points']\n",
    "\n",
    "# Define the dependent variable.\n",
    "x = df_reviews_clean['remuneration']"
   ]
  },
  {
   "cell_type": "code",
   "execution_count": 33,
   "id": "3c87e2c2",
   "metadata": {
    "scrolled": false
   },
   "outputs": [
    {
     "data": {
      "image/png": "[encoded data removed]",
      "text/plain": [
       "<Figure size 432x288 with 1 Axes>"
      ]
     },
     "metadata": {
      "needs_background": "light"
     },
     "output_type": "display_data"
    }
   ],
   "source": [
    "# Visualise the scatterplot of 'remuneration' and 'loyalty_points'.\n",
    "plt.scatter(x, y, alpha = .3)\n",
    "\"\"\"To see concentration of data points,\n",
    "set alpha (data point transparency) at 0.3.\"\"\"\n",
    "\n",
    "# Set the y and x limits on the axes.\n",
    "plt.ylim(0, 7000)\n",
    "plt.xlim(0,115)\n",
    "\n",
    "# Label the axes.\n",
    "plt.xlabel('Remuneration')\n",
    "plt.ylabel('Loyalty Points')\n",
    "\n",
    "# View the plot.\n",
    "plt.show()"
   ]
  },
  {
   "cell_type": "code",
   "execution_count": 34,
   "id": "d41fbb60",
   "metadata": {},
   "outputs": [],
   "source": [
    "# Create the OLS model.\n",
    "f = 'y ~ x'\n",
    "test = ols(f, data = df_reviews_clean).fit()"
   ]
  },
  {
   "cell_type": "code",
   "execution_count": 35,
   "id": "39369e13",
   "metadata": {
    "scrolled": true
   },
   "outputs": [
    {
     "data": {
      "text/html": [
       "<table class=\"simpletable\">\n",
       "<caption>OLS Regression Results</caption>\n",
       "<tr>\n",
       "  <th>Dep. Variable:</th>            <td>y</td>        <th>  R-squared:         </th> <td>   0.380</td> \n",
       "</tr>\n",
       "<tr>\n",
       "  <th>Model:</th>                   <td>OLS</td>       <th>  Adj. R-squared:    </th> <td>   0.379</td> \n",
       "</tr>\n",
       "<tr>\n",
       "  <th>Method:</th>             <td>Least Squares</td>  <th>  F-statistic:       </th> <td>   1222.</td> \n",
       "</tr>\n",
       "<tr>\n",
       "  <th>Date:</th>             <td>Tue, 27 Dec 2022</td> <th>  Prob (F-statistic):</th> <td>2.43e-209</td>\n",
       "</tr>\n",
       "<tr>\n",
       "  <th>Time:</th>                 <td>13:40:58</td>     <th>  Log-Likelihood:    </th> <td> -16674.</td> \n",
       "</tr>\n",
       "<tr>\n",
       "  <th>No. Observations:</th>      <td>  2000</td>      <th>  AIC:               </th> <td>3.335e+04</td>\n",
       "</tr>\n",
       "<tr>\n",
       "  <th>Df Residuals:</th>          <td>  1998</td>      <th>  BIC:               </th> <td>3.336e+04</td>\n",
       "</tr>\n",
       "<tr>\n",
       "  <th>Df Model:</th>              <td>     1</td>      <th>                     </th>     <td> </td>    \n",
       "</tr>\n",
       "<tr>\n",
       "  <th>Covariance Type:</th>      <td>nonrobust</td>    <th>                     </th>     <td> </td>    \n",
       "</tr>\n",
       "</table>\n",
       "<table class=\"simpletable\">\n",
       "<tr>\n",
       "      <td></td>         <th>coef</th>     <th>std err</th>      <th>t</th>      <th>P>|t|</th>  <th>[0.025</th>    <th>0.975]</th>  \n",
       "</tr>\n",
       "<tr>\n",
       "  <th>Intercept</th> <td>  -65.6865</td> <td>   52.171</td> <td>   -1.259</td> <td> 0.208</td> <td> -168.001</td> <td>   36.628</td>\n",
       "</tr>\n",
       "<tr>\n",
       "  <th>x</th>         <td>   34.1878</td> <td>    0.978</td> <td>   34.960</td> <td> 0.000</td> <td>   32.270</td> <td>   36.106</td>\n",
       "</tr>\n",
       "</table>\n",
       "<table class=\"simpletable\">\n",
       "<tr>\n",
       "  <th>Omnibus:</th>       <td>21.285</td> <th>  Durbin-Watson:     </th> <td>   3.622</td>\n",
       "</tr>\n",
       "<tr>\n",
       "  <th>Prob(Omnibus):</th> <td> 0.000</td> <th>  Jarque-Bera (JB):  </th> <td>  31.715</td>\n",
       "</tr>\n",
       "<tr>\n",
       "  <th>Skew:</th>          <td> 0.089</td> <th>  Prob(JB):          </th> <td>1.30e-07</td>\n",
       "</tr>\n",
       "<tr>\n",
       "  <th>Kurtosis:</th>      <td> 3.590</td> <th>  Cond. No.          </th> <td>    123.</td>\n",
       "</tr>\n",
       "</table><br/><br/>Notes:<br/>[1] Standard Errors assume that the covariance matrix of the errors is correctly specified."
      ],
      "text/plain": [
       "<class 'statsmodels.iolib.summary.Summary'>\n",
       "\"\"\"\n",
       "                            OLS Regression Results                            \n",
       "==============================================================================\n",
       "Dep. Variable:                      y   R-squared:                       0.380\n",
       "Model:                            OLS   Adj. R-squared:                  0.379\n",
       "Method:                 Least Squares   F-statistic:                     1222.\n",
       "Date:                Tue, 27 Dec 2022   Prob (F-statistic):          2.43e-209\n",
       "Time:                        13:40:58   Log-Likelihood:                -16674.\n",
       "No. Observations:                2000   AIC:                         3.335e+04\n",
       "Df Residuals:                    1998   BIC:                         3.336e+04\n",
       "Df Model:                           1                                         \n",
       "Covariance Type:            nonrobust                                         \n",
       "==============================================================================\n",
       "                 coef    std err          t      P>|t|      [0.025      0.975]\n",
       "------------------------------------------------------------------------------\n",
       "Intercept    -65.6865     52.171     -1.259      0.208    -168.001      36.628\n",
       "x             34.1878      0.978     34.960      0.000      32.270      36.106\n",
       "==============================================================================\n",
       "Omnibus:                       21.285   Durbin-Watson:                   3.622\n",
       "Prob(Omnibus):                  0.000   Jarque-Bera (JB):               31.715\n",
       "Skew:                           0.089   Prob(JB):                     1.30e-07\n",
       "Kurtosis:                       3.590   Cond. No.                         123.\n",
       "==============================================================================\n",
       "\n",
       "Notes:\n",
       "[1] Standard Errors assume that the covariance matrix of the errors is correctly specified.\n",
       "\"\"\""
      ]
     },
     "execution_count": 35,
     "metadata": {},
     "output_type": "execute_result"
    }
   ],
   "source": [
    "# View the regression table.\n",
    "test.summary()"
   ]
  },
  {
   "cell_type": "code",
   "execution_count": 36,
   "id": "e879d081",
   "metadata": {},
   "outputs": [
    {
     "name": "stdout",
     "output_type": "stream",
     "text": [
      "Parameters:  Intercept   -65.686513\n",
      "x            34.187825\n",
      "dtype: float64\n"
     ]
    }
   ],
   "source": [
    "# Extract the estimated parameters.\n",
    "print(\"Parameters: \", test.params)"
   ]
  },
  {
   "cell_type": "code",
   "execution_count": 37,
   "id": "4934a60c",
   "metadata": {},
   "outputs": [
    {
     "name": "stdout",
     "output_type": "stream",
     "text": [
      "Standard errors:  Intercept    52.170717\n",
      "x             0.977925\n",
      "dtype: float64\n"
     ]
    }
   ],
   "source": [
    "# Extract the standard errors.\n",
    "print(\"Standard errors: \", test.bse)"
   ]
  },
  {
   "cell_type": "code",
   "execution_count": 38,
   "id": "413b3272",
   "metadata": {},
   "outputs": [
    {
     "name": "stdout",
     "output_type": "stream",
     "text": [
      "Predicted values:  [ 354.82374068  354.82374068  382.85775758 ... 3102.15739671 3298.39551499\n",
      " 3102.15739671]\n"
     ]
    }
   ],
   "source": [
    "# Extract the predicted values.\n",
    "print(\"Predicted values: \", test.predict())"
   ]
  },
  {
   "cell_type": "code",
   "execution_count": 39,
   "id": "d4e1a614",
   "metadata": {},
   "outputs": [],
   "source": [
    "# Create the linear regression model.\n",
    "# Set the coefficient and the constant equal to the estimated parameters.\n",
    "y_pred = (-65.686513) + (34.187825) * df_reviews_clean['remuneration']"
   ]
  },
  {
   "cell_type": "code",
   "execution_count": 40,
   "id": "7658a18e",
   "metadata": {},
   "outputs": [
    {
     "data": {
      "text/plain": [
       "0        354.823735\n",
       "1        354.823735\n",
       "2        382.857751\n",
       "3        382.857751\n",
       "4        410.891767\n",
       "           ...     \n",
       "1995    2821.817186\n",
       "1996    3102.157351\n",
       "1997    3102.157351\n",
       "1998    3298.395467\n",
       "1999    3102.157351\n",
       "Name: remuneration, Length: 2000, dtype: float64"
      ]
     },
     "execution_count": 40,
     "metadata": {},
     "output_type": "execute_result"
    }
   ],
   "source": [
    "# View the output.\n",
    "y_pred"
   ]
  },
  {
   "cell_type": "code",
   "execution_count": 41,
   "id": "423c3546",
   "metadata": {},
   "outputs": [
    {
     "data": {
      "image/png": "[encoded data removed]",
      "text/plain": [
       "<Figure size 432x288 with 1 Axes>"
      ]
     },
     "metadata": {
      "needs_background": "light"
     },
     "output_type": "display_data"
    }
   ],
   "source": [
    "# Plot the graph with a regression line.\n",
    "plt.scatter(x, y, alpha = .3)\n",
    "\n",
    "# Plot the regression line.\n",
    "plt.plot(x, y_pred, color='red')\n",
    "\n",
    "# Set the y and x limits on the axes.\n",
    "plt.ylim(0, 7000)\n",
    "plt.xlim(0,115)\n",
    "\n",
    "# Label the axes.\n",
    "plt.xlabel('Remuneration')\n",
    "plt.ylabel('Loyalty Points')\n",
    "\n",
    "# View the plot.\n",
    "plt.show()"
   ]
  },
  {
   "cell_type": "code",
   "execution_count": 42,
   "id": "9af7b695",
   "metadata": {},
   "outputs": [],
   "source": [
    "# Define test to see whether the homoskedasticity assumption is met.\n",
    "test = sms.het_breuschpagan(test.resid, test.model.exog)"
   ]
  },
  {
   "cell_type": "code",
   "execution_count": 43,
   "id": "7cbcf9fc",
   "metadata": {},
   "outputs": [
    {
     "name": "stdout",
     "output_type": "stream",
     "text": [
      "{'LM stat': 1038.6445487288283, 'LM Test p-value': 7.153051772822205e-228, 'F-stat': 2158.6311344219325, 'F-test p-value': 3.68e-320}\n"
     ]
    }
   ],
   "source": [
    "# Run homoskedasticity test.\n",
    "terms = ['LM stat', 'LM Test p-value', 'F-stat', 'F-test p-value']\n",
    "print(dict(zip(terms, test)))"
   ]
  },
  {
   "cell_type": "markdown",
   "id": "10fb1ec8",
   "metadata": {},
   "source": [
    "**Comments**\\\n",
    "*Homoskedastiity / homogeneity of variance*\\\n",
    "The `'LM-test p-value'` is less than 5% and therefore we cannot accept that the homoskedasticity assumption is met. This means that the variance of the outcome variable (`'loyalty_points'`) is not stable at all levels of the predictor variable (`'remuneration'`).\n",
    "\n",
    "We could apply a transformation to our data to address the heteroskedasticity issue. We will consider whether to do this after our presentation to our stakeholders at Turtle Games of our initial data analysis results.  \n",
    "\n",
    "*Amount of variance explained by our model*\\\n",
    "With the caveat of the heteroskedasticity issue which might affect the reliability of our liner regression, the amount of variance in `'loyalty_points'` explained by the linear model we fit to the data is 38% (`'R-squared'` is 0.38)."
   ]
  },
  {
   "cell_type": "markdown",
   "id": "abc5a7cf",
   "metadata": {},
   "source": [
    "### (3) Relationship between customer `'spending_score'` and `'loyalty_points'`"
   ]
  },
  {
   "cell_type": "code",
   "execution_count": 44,
   "id": "8f4065ee",
   "metadata": {},
   "outputs": [],
   "source": [
    "# Define the independent variable.\n",
    "y = df_reviews_clean['loyalty_points']\n",
    "\n",
    "# Define the dependent variable.\n",
    "x = df_reviews_clean['spending_score']"
   ]
  },
  {
   "cell_type": "code",
   "execution_count": 45,
   "id": "253e21c7",
   "metadata": {
    "scrolled": true
   },
   "outputs": [
    {
     "data": {
      "image/png": "[encoded data removed]",
      "text/plain": [
       "<Figure size 432x288 with 1 Axes>"
      ]
     },
     "metadata": {
      "needs_background": "light"
     },
     "output_type": "display_data"
    }
   ],
   "source": [
    "# Visualise the scatterplot of 'spending_score' and 'loyalty_points'.\n",
    "plt.scatter(x, y, alpha = .3)\n",
    "\"\"\"To see concentration of data points,\n",
    "set alpha (data point transparency) at 0.3.\"\"\"\n",
    "\n",
    "# Set the y and x limits on the axes.\n",
    "plt.ylim(0, 7000)\n",
    "plt.xlim(0, 100)\n",
    "\n",
    "# Label the axes.\n",
    "plt.xlabel('Spending Score')\n",
    "plt.ylabel('Loyalty Points')\n",
    "\n",
    "# View the plot.\n",
    "plt.show()"
   ]
  },
  {
   "cell_type": "code",
   "execution_count": 46,
   "id": "99100289",
   "metadata": {},
   "outputs": [],
   "source": [
    "# Create the OLS model.\n",
    "f = 'y ~ x'\n",
    "test = ols(f, data = df_reviews_clean).fit()"
   ]
  },
  {
   "cell_type": "code",
   "execution_count": 47,
   "id": "c7a4e9f6",
   "metadata": {
    "scrolled": true
   },
   "outputs": [
    {
     "data": {
      "text/html": [
       "<table class=\"simpletable\">\n",
       "<caption>OLS Regression Results</caption>\n",
       "<tr>\n",
       "  <th>Dep. Variable:</th>            <td>y</td>        <th>  R-squared:         </th> <td>   0.452</td> \n",
       "</tr>\n",
       "<tr>\n",
       "  <th>Model:</th>                   <td>OLS</td>       <th>  Adj. R-squared:    </th> <td>   0.452</td> \n",
       "</tr>\n",
       "<tr>\n",
       "  <th>Method:</th>             <td>Least Squares</td>  <th>  F-statistic:       </th> <td>   1648.</td> \n",
       "</tr>\n",
       "<tr>\n",
       "  <th>Date:</th>             <td>Tue, 27 Dec 2022</td> <th>  Prob (F-statistic):</th> <td>2.92e-263</td>\n",
       "</tr>\n",
       "<tr>\n",
       "  <th>Time:</th>                 <td>13:40:59</td>     <th>  Log-Likelihood:    </th> <td> -16550.</td> \n",
       "</tr>\n",
       "<tr>\n",
       "  <th>No. Observations:</th>      <td>  2000</td>      <th>  AIC:               </th> <td>3.310e+04</td>\n",
       "</tr>\n",
       "<tr>\n",
       "  <th>Df Residuals:</th>          <td>  1998</td>      <th>  BIC:               </th> <td>3.312e+04</td>\n",
       "</tr>\n",
       "<tr>\n",
       "  <th>Df Model:</th>              <td>     1</td>      <th>                     </th>     <td> </td>    \n",
       "</tr>\n",
       "<tr>\n",
       "  <th>Covariance Type:</th>      <td>nonrobust</td>    <th>                     </th>     <td> </td>    \n",
       "</tr>\n",
       "</table>\n",
       "<table class=\"simpletable\">\n",
       "<tr>\n",
       "      <td></td>         <th>coef</th>     <th>std err</th>      <th>t</th>      <th>P>|t|</th>  <th>[0.025</th>    <th>0.975]</th>  \n",
       "</tr>\n",
       "<tr>\n",
       "  <th>Intercept</th> <td>  -75.0527</td> <td>   45.931</td> <td>   -1.634</td> <td> 0.102</td> <td> -165.129</td> <td>   15.024</td>\n",
       "</tr>\n",
       "<tr>\n",
       "  <th>x</th>         <td>   33.0617</td> <td>    0.814</td> <td>   40.595</td> <td> 0.000</td> <td>   31.464</td> <td>   34.659</td>\n",
       "</tr>\n",
       "</table>\n",
       "<table class=\"simpletable\">\n",
       "<tr>\n",
       "  <th>Omnibus:</th>       <td>126.554</td> <th>  Durbin-Watson:     </th> <td>   1.191</td>\n",
       "</tr>\n",
       "<tr>\n",
       "  <th>Prob(Omnibus):</th> <td> 0.000</td>  <th>  Jarque-Bera (JB):  </th> <td> 260.528</td>\n",
       "</tr>\n",
       "<tr>\n",
       "  <th>Skew:</th>          <td> 0.422</td>  <th>  Prob(JB):          </th> <td>2.67e-57</td>\n",
       "</tr>\n",
       "<tr>\n",
       "  <th>Kurtosis:</th>      <td> 4.554</td>  <th>  Cond. No.          </th> <td>    122.</td>\n",
       "</tr>\n",
       "</table><br/><br/>Notes:<br/>[1] Standard Errors assume that the covariance matrix of the errors is correctly specified."
      ],
      "text/plain": [
       "<class 'statsmodels.iolib.summary.Summary'>\n",
       "\"\"\"\n",
       "                            OLS Regression Results                            \n",
       "==============================================================================\n",
       "Dep. Variable:                      y   R-squared:                       0.452\n",
       "Model:                            OLS   Adj. R-squared:                  0.452\n",
       "Method:                 Least Squares   F-statistic:                     1648.\n",
       "Date:                Tue, 27 Dec 2022   Prob (F-statistic):          2.92e-263\n",
       "Time:                        13:40:59   Log-Likelihood:                -16550.\n",
       "No. Observations:                2000   AIC:                         3.310e+04\n",
       "Df Residuals:                    1998   BIC:                         3.312e+04\n",
       "Df Model:                           1                                         \n",
       "Covariance Type:            nonrobust                                         \n",
       "==============================================================================\n",
       "                 coef    std err          t      P>|t|      [0.025      0.975]\n",
       "------------------------------------------------------------------------------\n",
       "Intercept    -75.0527     45.931     -1.634      0.102    -165.129      15.024\n",
       "x             33.0617      0.814     40.595      0.000      31.464      34.659\n",
       "==============================================================================\n",
       "Omnibus:                      126.554   Durbin-Watson:                   1.191\n",
       "Prob(Omnibus):                  0.000   Jarque-Bera (JB):              260.528\n",
       "Skew:                           0.422   Prob(JB):                     2.67e-57\n",
       "Kurtosis:                       4.554   Cond. No.                         122.\n",
       "==============================================================================\n",
       "\n",
       "Notes:\n",
       "[1] Standard Errors assume that the covariance matrix of the errors is correctly specified.\n",
       "\"\"\""
      ]
     },
     "execution_count": 47,
     "metadata": {},
     "output_type": "execute_result"
    }
   ],
   "source": [
    "# View the regression table.\n",
    "test.summary()"
   ]
  },
  {
   "cell_type": "code",
   "execution_count": 48,
   "id": "5fd540ce",
   "metadata": {},
   "outputs": [
    {
     "name": "stdout",
     "output_type": "stream",
     "text": [
      "Parameters:  Intercept   -75.052663\n",
      "x            33.061693\n",
      "dtype: float64\n"
     ]
    }
   ],
   "source": [
    "# Extract the estimated parameters.\n",
    "print(\"Parameters: \", test.params)"
   ]
  },
  {
   "cell_type": "code",
   "execution_count": 49,
   "id": "960d8a13",
   "metadata": {},
   "outputs": [
    {
     "name": "stdout",
     "output_type": "stream",
     "text": [
      "Standard errors:  Intercept    45.930554\n",
      "x             0.814419\n",
      "dtype: float64\n"
     ]
    }
   ],
   "source": [
    "# Extract the standard errors.\n",
    "print(\"Standard errors: \", test.bse)"
   ]
  },
  {
   "cell_type": "code",
   "execution_count": 50,
   "id": "c472a120",
   "metadata": {},
   "outputs": [
    {
     "name": "stdout",
     "output_type": "stream",
     "text": [
      "Predicted values:  [1214.35337415 2602.94449102  123.31749662 ... 2933.56142361  453.93442921\n",
      "  189.44088314]\n"
     ]
    }
   ],
   "source": [
    "# Extract the predicted values.\n",
    "print(\"Predicted values: \", test.predict())"
   ]
  },
  {
   "cell_type": "code",
   "execution_count": 51,
   "id": "67fb1261",
   "metadata": {},
   "outputs": [],
   "source": [
    "# Create the linear regression model.\n",
    "# Set the coefficient and the constant equal to the estimated parameters.\n",
    "y_pred = (-75.052663) + (33.061693) * df_reviews_clean['spending_score']"
   ]
  },
  {
   "cell_type": "code",
   "execution_count": 52,
   "id": "1739d889",
   "metadata": {},
   "outputs": [
    {
     "data": {
      "text/plain": [
       "0       1214.353364\n",
       "1       2602.944470\n",
       "2        123.317495\n",
       "3       2470.697698\n",
       "4       1247.415057\n",
       "           ...     \n",
       "1995    2206.204154\n",
       "1996     189.440881\n",
       "1997    2933.561400\n",
       "1998     453.934425\n",
       "1999     189.440881\n",
       "Name: spending_score, Length: 2000, dtype: float64"
      ]
     },
     "execution_count": 52,
     "metadata": {},
     "output_type": "execute_result"
    }
   ],
   "source": [
    "# View the output.\n",
    "y_pred"
   ]
  },
  {
   "cell_type": "code",
   "execution_count": 53,
   "id": "05393df4",
   "metadata": {},
   "outputs": [
    {
     "data": {
      "image/png": "[encoded data removed]",
      "text/plain": [
       "<Figure size 432x288 with 1 Axes>"
      ]
     },
     "metadata": {
      "needs_background": "light"
     },
     "output_type": "display_data"
    }
   ],
   "source": [
    "# Plot the graph with a regression line.\n",
    "plt.scatter(x, y, alpha = .3)\n",
    "\n",
    "# Plot the regression line.\n",
    "plt.plot(x, y_pred, color='red')\n",
    "\n",
    "# Set the y and x limits on the axes.\n",
    "plt.ylim(0, 7000)\n",
    "plt.xlim(0, 100)\n",
    "\n",
    "# Label the axes.\n",
    "plt.xlabel('Spending Score')\n",
    "plt.ylabel('Loyalty Points')\n",
    "\n",
    "# View the plot.\n",
    "plt.show()"
   ]
  },
  {
   "cell_type": "code",
   "execution_count": 54,
   "id": "57d508d9",
   "metadata": {},
   "outputs": [],
   "source": [
    "# Define test to see whether the homoskedasticity assumption is met.\n",
    "test = sms.het_breuschpagan(test.resid, test.model.exog)"
   ]
  },
  {
   "cell_type": "code",
   "execution_count": 55,
   "id": "b8113ee8",
   "metadata": {},
   "outputs": [
    {
     "name": "stdout",
     "output_type": "stream",
     "text": [
      "{'LM stat': 629.9823360215933, 'LM Test p-value': 5.042699614937062e-139, 'F-stat': 918.7507142907773, 'F-test p-value': 2.3037887924468668e-166}\n"
     ]
    }
   ],
   "source": [
    "# Run homoskedasticity test.\n",
    "terms = ['LM stat', 'LM Test p-value', 'F-stat', 'F-test p-value']\n",
    "print(dict(zip(terms, test)))"
   ]
  },
  {
   "cell_type": "markdown",
   "id": "5742bcd7",
   "metadata": {},
   "source": [
    "**Comments**\\\n",
    "*Homoskedastiity / homogeneity of variance*\\\n",
    "The `'LM-test p-value'` is less than 5% and therefore we cannot accept that the homoskedasticity assumption is met. This means that the variance of the outcome variable (`'loyalty_points'`) is not stable at all levels of the predictor variable (`'spending_score'`).\n",
    "\n",
    "We could apply a transformation to our data to address the heteroskedasticity issue. We will consider whether to do this after our presentation to our stakeholders at Turtle Games of our initial data analysis results.  \n",
    "\n",
    "*Amount of variance explained by our model*\\\n",
    "With the caveat of the heteroskedasticity issue which might affect the reliability of our liner regression, the amount of variance in `'loyalty_points'` explained by the linear model we fit to the data is 45.2% (`'R-squared'` is 0.452)."
   ]
  },
  {
   "cell_type": "code",
   "execution_count": null,
   "id": "06cb0228",
   "metadata": {},
   "outputs": [],
   "source": []
  }
 ],
 "metadata": {
  "kernelspec": {
   "display_name": "Python 3 (ipykernel)",
   "language": "python",
   "name": "python3"
  },
  "language_info": {
   "codemirror_mode": {
    "name": "ipython",
    "version": 3
   },
   "file_extension": ".py",
   "mimetype": "text/x-python",
   "name": "python",
   "nbconvert_exporter": "python",
   "pygments_lexer": "ipython3",
   "version": "3.9.12"
  }
 },
 "nbformat": 4,
 "nbformat_minor": 5
}
